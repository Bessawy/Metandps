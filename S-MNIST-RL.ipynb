{
 "cells": [
  {
   "cell_type": "code",
   "execution_count": 1,
   "id": "ec9b0190",
   "metadata": {},
   "outputs": [],
   "source": [
    "import matplotlib.pyplot as plt\n",
    "from dmp_.utils.smnist_loader import MatLoader, Separate\n",
    "import numpy as np\n",
    "import cv2\n",
    "import torch"
   ]
  },
  {
   "cell_type": "code",
   "execution_count": 2,
   "id": "76a2404a",
   "metadata": {},
   "outputs": [],
   "source": [
    "data_path = './dmp_/data/s-mnist/40x40-smnist.mat'\n",
    "images, outputs, scale, or_tr = MatLoader.load_data(data_path, load_original_trajectories=True)\n",
    "images = np.array([cv2.resize(img, (28, 28)) for img in images]) / 255.0\n",
    "data_sep = Separate()\n",
    "digit_indices = data_sep.no_separation()\n",
    "input_size = images.shape[1] * images.shape[2]\n",
    "Zero_ind = digit_indices[2].astype(int)"
   ]
  },
  {
   "cell_type": "code",
   "execution_count": 3,
   "id": "03c9b803",
   "metadata": {},
   "outputs": [
    {
     "data": {
      "text/plain": [
       "(2000,)"
      ]
     },
     "execution_count": 3,
     "metadata": {},
     "output_type": "execute_result"
    }
   ],
   "source": [
    "Zero_ind.shape"
   ]
  },
  {
   "cell_type": "code",
   "execution_count": 4,
   "id": "d12b1748",
   "metadata": {},
   "outputs": [],
   "source": [
    "inds = np.arange(1205)\n",
    "np.random.shuffle(inds)\n",
    "test_inds = inds[1200:]\n",
    "train_inds = inds[:1200]"
   ]
  },
  {
   "cell_type": "code",
   "execution_count": 5,
   "id": "48ffce28",
   "metadata": {},
   "outputs": [],
   "source": [
    "X = torch.Tensor(images[Zero_ind]).float()\n",
    "Y = torch.Tensor(np.array(or_tr)[:, :, :2]).float()[Zero_ind]\n",
    "\n",
    "X_train = X[train_inds]\n",
    "Y_train = Y[train_inds]"
   ]
  },
  {
   "cell_type": "code",
   "execution_count": 6,
   "id": "d434ba44",
   "metadata": {},
   "outputs": [],
   "source": [
    "inds = np.arange(X_train.shape[0])\n",
    "np.random.shuffle(inds)\n",
    "ind = inds[0]"
   ]
  },
  {
   "cell_type": "code",
   "execution_count": 7,
   "id": "d579193c",
   "metadata": {},
   "outputs": [
    {
     "data": {
      "text/plain": [
       "torch.Size([301, 2])"
      ]
     },
     "execution_count": 7,
     "metadata": {},
     "output_type": "execute_result"
    }
   ],
   "source": [
    "Y_train[ind].shape"
   ]
  },
  {
   "cell_type": "code",
   "execution_count": 8,
   "id": "a27f111d",
   "metadata": {},
   "outputs": [
    {
     "data": {
      "image/png": "[encoded data removed]",
      "text/plain": [
       "<Figure size 432x288 with 1 Axes>"
      ]
     },
     "metadata": {
      "needs_background": "light"
     },
     "output_type": "display_data"
    }
   ],
   "source": [
    "fig, ax = plt.subplots()\n",
    "im = ax.imshow(X_train[ind])\n",
    "ax.plot(Y_train[ind][:, 0] * 0.668, Y_train[ind][:, 1] * 0.668, 'x', ls='dotted', linewidth=10, color='red')\n",
    "plt.show()"
   ]
  },
  {
   "cell_type": "code",
   "execution_count": 24,
   "id": "e408479d",
   "metadata": {},
   "outputs": [],
   "source": [
    "class SMNIST(object):\n",
    "    def __init__(self,\n",
    "                 max_ep_length=300,\n",
    "                 goal_conditioned=False, digit_idx=2,\n",
    "                 randomize=False, single_digit=False,\n",
    "                 data_path='./dmp_/data/s-mnist/40x40-smnist.mat'):\n",
    "        self.single_digit = single_digit\n",
    "        self.randomize = randomize\n",
    "        self.max_ep_length = max_ep_length\n",
    "        self.goal_conditioned = goal_conditioned\n",
    "        self.initialise_environment(data_path, digit_idx)\n",
    "\n",
    "    @property\n",
    "    def action_space(self):\n",
    "        return self._action_spec\n",
    "\n",
    "    @property\n",
    "    def observation_space(self):\n",
    "        return self._observation_spec\n",
    "\n",
    "    @property\n",
    "    def goal(self):\n",
    "        return self._target_trajectory[self.step_no + 1]\n",
    "\n",
    "    def load_images(self, data_path, digit_idx):\n",
    "        images, outputs, scale, trajectories = MatLoader.load_data(\n",
    "            data_path, load_original_trajectories=True)\n",
    "        images = np.array([cv2.resize(img, (28, 28))\n",
    "                          for img in images]) / 255.0\n",
    "        data_sep = Separate()\n",
    "        digit_indices = data_sep.no_separation()\n",
    "        input_size = images.shape[1] * images.shape[2]\n",
    "        return images, trajectories, digit_indices[digit_idx].astype(int)\n",
    "\n",
    "    def initialise_environment(self, path, digit_idx):\n",
    "        self._images, self._trajectories, self._desired_idx = self.load_images(\n",
    "            data_path, digit_idx)\n",
    "        self._action_spec = np.zeros(2)\n",
    "        self._state = np.zeros(np.array(self._trajectories)[\n",
    "                               :, :, :2].shape[-1])\n",
    "        if not self.goal_conditioned:\n",
    "            self._observation_spec = np.zeros_like(self._state)\n",
    "        else:\n",
    "            total_dim = env.task_goal.reshape(\n",
    "                [-1]).shape[0] + env.start_state.reshape([-1]).shape[0]\n",
    "            self._observation_spec = np.zeros((total_dim,))\n",
    "\n",
    "    def reset(self, perturb_goal=False):\n",
    "        if self.randomize:\n",
    "            np.random.shuffle(self._desired_idx)\n",
    "\n",
    "        self._task_goal = self._images[self._desired_idx[0]].astype(np.float32)\n",
    "        self._target_trajectory = self.extract_demo()\n",
    "        self._state = self._target_trajectory[0, :]\n",
    "        self._episode_ended = False\n",
    "        self.step_no = 0\n",
    "        return self._state\n",
    "\n",
    "    def extract_demo(self):\n",
    "        return np.array(self._trajectories)[:, :, :2].astype(np.float32)[self._desired_idx[0]]\n",
    "\n",
    "    def step(self, action):\n",
    "        self.step_no += 1\n",
    "\n",
    "        # Make sure episodes don't go on forever.\n",
    "        if self.step_no == self.max_ep_length:\n",
    "            self._episode_ended = True\n",
    "\n",
    "        self._state = self._state + action\n",
    "        self._goal = self._target_trajectory[self.step_no]\n",
    "        distance = np.abs(self._goal-self._state)\n",
    "        reward = np.exp(-np.mean(distance))\n",
    "\n",
    "        return np.copy(self._state), reward, np.copy(self._episode_ended), None\n"
   ]
  },
  {
   "cell_type": "code",
   "execution_count": 32,
   "id": "c2f013cb",
   "metadata": {},
   "outputs": [],
   "source": [
    "def smooth(scalars, weight): \n",
    "    last = scalars[0] \n",
    "    smoothed = list() \n",
    "    for point in scalars: \n",
    "        smoothed_val = last * weight + (1-weight)*point \n",
    "        smoothed.append(smoothed_val) \n",
    "        last = smoothed_val \n",
    "    return smoothed "
   ]
  },
  {
   "cell_type": "code",
   "execution_count": 44,
   "id": "84dedf9f",
   "metadata": {},
   "outputs": [],
   "source": [
    "from torch import FloatTensor, LongTensor\n",
    "from torch import nn\n",
    "from torch import optim\n",
    "\n",
    "\n",
    "class policy_estimator(object):\n",
    "    def __init__(self, env):\n",
    "        self.n_inputs = env.observation_space.shape[0] # + 2\n",
    "        self.n_outputs = env.action_space.shape[0]\n",
    "\n",
    "        # Define network\n",
    "        self.network = nn.Sequential(\n",
    "            nn.Linear(self.n_inputs, 128),\n",
    "            nn.Sigmoid(),\n",
    "            nn.Linear(128, 2*self.n_outputs) #,\n",
    "            # nn.Tanh()\n",
    "#             nn.Sigmoid()\n",
    "        )\n",
    "\n",
    "#     def predict(self, state, goal):\n",
    "#         x = torch.cat((FloatTensor(state).view(1, len(state)), FloatTensor(goal).view(1, len(goal))), dim=1)\n",
    "    def predict(self, state):\n",
    "        x = FloatTensor(state).view(1, len(state))\n",
    "        action_probs = self.network(x)\n",
    "        return action_probs.squeeze()[:2], torch.exp(action_probs.squeeze()[2:])\n",
    "\n",
    "def discount_rewards(rewards, gamma=0.99):\n",
    "    r = np.array([gamma**i * rewards[i] for i in range(len(rewards))])\n",
    "    # Reverse the array direction for cumsumand then\n",
    "    # revert back to the original\n",
    "    r = r[::-1].cumsum()[::-1]\n",
    "    # subtracting mean helps stabilize rewards \n",
    "    # if they're all positive, gradients change more with negative or\n",
    "    # below average rewards than they would if they weren't normalized.\n",
    "    return r - r.mean()\n",
    "\n",
    "def reinforce(env, policy_estimator, num_episodes=5000,\n",
    "                batch_size=64, gamma=0.99):\n",
    "    # Set up lists to hold results in\n",
    "    total_rewards = []\n",
    "    total_loss = []\n",
    "    batch_rewards = []\n",
    "    batch_actions = []\n",
    "    batch_log_probs = []\n",
    "    batch_states = []\n",
    "    batch_counter = 1\n",
    "    batch_goals = []\n",
    "\n",
    "    # Define optimizer\n",
    "    optimizer = optim.Adam(policy_estimator.network.parameters(), lr=0.001)\n",
    "\n",
    "    action_space = np.arange(env.action_space.shape[0])\n",
    "    ep = 0\n",
    "    while ep < num_episodes:\n",
    "        s_0 = env.reset()\n",
    "        g_0 = env.goal\n",
    "        states = []\n",
    "        rewards = []\n",
    "        goals = []\n",
    "        actions = []\n",
    "        distributions = []\n",
    "        done = False\n",
    "        while done == False:\n",
    "            # Get actions and convert to numpy array\n",
    "#             means, sigs = policy_estimator.predict(s_0)\n",
    "#             means, sigs = policy_estimator.predict(s_0, g_0)\n",
    "            feature = g_0 - s_0\n",
    "            means, sigs = policy_estimator.predict(feature)\n",
    "            # action = np.random.choice(action_space, p=action_probs)\n",
    "            dists = torch.distributions.Normal(means, sigs)\n",
    "            action = dists.sample().detach().numpy()\n",
    "            s_1, r, done, _ = env.step(action)\n",
    "            states.append(s_0)\n",
    "            rewards.append(r)\n",
    "            goals.append(g_0)\n",
    "            actions.append(action)\n",
    "            s_0 = s_1\n",
    "\n",
    "            # If done, batch data\n",
    "            if done:\n",
    "                batch_rewards.extend(discount_rewards(rewards, gamma))\n",
    "                batch_states.extend(states)\n",
    "                batch_actions.extend(actions)\n",
    "                batch_goals.extend(goals)\n",
    "                batch_counter += 1\n",
    "                total_rewards.append(sum(rewards))\n",
    "\n",
    "                # If batch is complete, update network\n",
    "                if batch_counter == batch_size:\n",
    "                    optimizer.zero_grad()\n",
    "                    state_tensor = FloatTensor(batch_states)\n",
    "                    reward_tensor = FloatTensor(batch_rewards)\n",
    "                    action_tensor = torch.as_tensor(batch_actions)\n",
    "                    goal_tensor = FloatTensor(batch_goals)\n",
    "                    # Calculate loss\n",
    "#                     inpt_tensor = state_tensor\n",
    "#                     inpt_tensor = torch.cat((state_tensor, goal_tensor), dim=1)\n",
    "                    inpt_tensor = goal_tensor-state_tensor\n",
    "                    _vars = policy_estimator.network(inpt_tensor)\n",
    "                    dists = torch.distributions.Normal(_vars[:, :2], torch.exp(_vars[:, 2:]))\n",
    "                    # samples = dists.sample()\n",
    "                    log_prob = dists.log_prob(action_tensor)\n",
    "                    selected_logprobs = reward_tensor * log_prob.sum(dim=-1)\n",
    "                    loss = -selected_logprobs.mean()\n",
    "                    total_loss.append(loss.detach().numpy())\n",
    "\n",
    "                    # Calculate gradients\n",
    "                    loss.backward()\n",
    "                    # Apply gradients\n",
    "                    optimizer.step()\n",
    "\n",
    "                    batch_rewards = []\n",
    "                    batch_actions = []\n",
    "                    batch_states = []\n",
    "                    batch_counter = 1\n",
    "                    batch_goals = []\n",
    "\n",
    "                    avg_rewards = np.mean(total_rewards[-100:])\n",
    "                    avg_loss = np.mean(total_loss[-100:])\n",
    "                    # Print running average\n",
    "                    print('\\rEp: {0} Average rew of last 10: {1} and loss: {2}'.format(ep+1, avg_rewards, avg_loss), end=\"\")\n",
    "                ep += 1\n",
    "\n",
    "    return np.array(states[:]), total_rewards"
   ]
  },
  {
   "cell_type": "code",
   "execution_count": 46,
   "id": "0bb1a162",
   "metadata": {},
   "outputs": [],
   "source": [
    "# no goal\n",
    "env = SMNIST()\n",
    "policy_est = policy_estimator(env)\n",
    "trajectory, rewards = reinforce(env, policy_est)\n",
    "plt.plot(np.arange(len(rewards)), smooth(rewards, 0.6))\n",
    "plt.savefig(\"plot.jpg\")\n",
    "print(\"Done\")"
   ]
  },
  {
   "cell_type": "code",
   "execution_count": 23,
   "id": "4a9de756",
   "metadata": {},
   "outputs": [
    {
     "data": {
      "image/png": "[encoded data removed]",
      "text/plain": [
       "<Figure size 432x288 with 1 Axes>"
      ]
     },
     "metadata": {
      "needs_background": "light"
     },
     "output_type": "display_data"
    }
   ],
   "source": [
    "fig, ax = plt.subplots()\n",
    "im = ax.imshow(env._task_goal)\n",
    "ax.plot(trajectory[:, 0] * 0.668, trajectory[:, 1] * 0.668, 'x', ls='dotted', linewidth=10, color='red')\n",
    "plt.show()"
   ]
  },
  {
   "cell_type": "code",
   "execution_count": 37,
   "id": "ede717c9",
   "metadata": {},
   "outputs": [
    {
     "name": "stdout",
     "output_type": "stream",
     "text": [
      "Ep: 4977 Average rew of last 10: 9.589622358485784 and loss: -0.129245430231094367Done\n"
     ]
    },
    {
     "data": {
      "image/png": "[encoded data removed]",
      "text/plain": [
       "<Figure size 432x288 with 1 Axes>"
      ]
     },
     "metadata": {
      "needs_background": "light"
     },
     "output_type": "display_data"
    }
   ],
   "source": [
    "# immediate next as goal\n",
    "env = SMNIST()\n",
    "policy_est = policy_estimator(env)\n",
    "trajectory, rewards = reinforce(env, policy_est)\n",
    "plt.plot(np.arange(len(rewards)), smooth(rewards, 0.6))\n",
    "plt.savefig(\"plot.jpg\")\n",
    "print(\"Done\")"
   ]
  },
  {
   "cell_type": "code",
   "execution_count": 38,
   "id": "58311202",
   "metadata": {},
   "outputs": [
    {
     "data": {
      "image/png": "[encoded data removed]",
      "text/plain": [
       "<Figure size 432x288 with 1 Axes>"
      ]
     },
     "metadata": {
      "needs_background": "light"
     },
     "output_type": "display_data"
    }
   ],
   "source": [
    "fig, ax = plt.subplots()\n",
    "im = ax.imshow(env._task_goal)\n",
    "ax.plot(trajectory[:, 0] * 0.668, trajectory[:, 1] * 0.668, 'x', ls='dotted', linewidth=10, color='red')\n",
    "plt.show()"
   ]
  },
  {
   "cell_type": "code",
   "execution_count": 47,
   "id": "aa731ad4",
   "metadata": {},
   "outputs": [
    {
     "name": "stdout",
     "output_type": "stream",
     "text": [
      "Ep: 4977 Average rew of last 10: 35.79967510426778 and loss: -0.0357664152979850854Done\n"
     ]
    },
    {
     "data": {
      "image/png": "[encoded data removed]",
      "text/plain": [
       "<Figure size 432x288 with 1 Axes>"
      ]
     },
     "metadata": {
      "needs_background": "light"
     },
     "output_type": "display_data"
    }
   ],
   "source": [
    "# Squared distance as a feature\n",
    "env = SMNIST()\n",
    "policy_est = policy_estimator(env)\n",
    "trajectory, rewards = reinforce(env, policy_est)\n",
    "plt.plot(np.arange(len(rewards)), smooth(rewards, 0.6))\n",
    "plt.savefig(\"plot.jpg\")\n",
    "print(\"Done\")"
   ]
  },
  {
   "cell_type": "code",
   "execution_count": 48,
   "id": "94f7cc86",
   "metadata": {},
   "outputs": [
    {
     "data": {
      "image/png": "[encoded data removed]",
      "text/plain": [
       "<Figure size 432x288 with 1 Axes>"
      ]
     },
     "metadata": {
      "needs_background": "light"
     },
     "output_type": "display_data"
    }
   ],
   "source": [
    "fig, ax = plt.subplots()\n",
    "im = ax.imshow(env._task_goal)\n",
    "ax.plot(trajectory[:, 0] * 0.668, trajectory[:, 1] * 0.668, 'x', ls='dotted', linewidth=10, color='red')\n",
    "plt.show()"
   ]
  },
  {
   "cell_type": "code",
   "execution_count": null,
   "id": "16a6f2d1",
   "metadata": {},
   "outputs": [],
   "source": []
  }
 ],
 "metadata": {
  "kernelspec": {
   "display_name": "Python 3",
   "language": "python",
   "name": "python3"
  },
  "language_info": {
   "codemirror_mode": {
    "name": "ipython",
    "version": 3
   },
   "file_extension": ".py",
   "mimetype": "text/x-python",
   "name": "python",
   "nbconvert_exporter": "python",
   "pygments_lexer": "ipython3",
   "version": "3.6.13"
  }
 },
 "nbformat": 4,
 "nbformat_minor": 5
}
